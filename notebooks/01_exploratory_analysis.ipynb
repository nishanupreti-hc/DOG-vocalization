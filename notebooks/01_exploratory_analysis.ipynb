{
 "cells": [
  {
   "cell_type": "markdown",
   "metadata": {},
   "source": [
    "# Dog Vocalization EDA\n",
    "Exploratory analysis of collected audio data"
   ]
  },
  {
   "cell_type": "code",
   "execution_count": null,
   "metadata": {},
   "outputs": [],
   "source": [
    "import sys\n",
    "sys.path.append('../src')\n",
    "\n",
    "import numpy as np\n",
    "import matplotlib.pyplot as plt\n",
    "import librosa\n",
    "import librosa.display\n",
    "from pathlib import Path\n",
    "from preprocessing.audio_utils import extract_features, create_spectrogram"
   ]
  },
  {
   "cell_type": "code",
   "execution_count": null,
   "metadata": {},
   "outputs": [],
   "source": [
    "# Load and analyze sample audio\n",
    "def analyze_audio_file(file_path):\n",
    "    data = np.load(file_path, allow_pickle=True).item()\n",
    "    audio, sr = data['audio'], data['sr']\n",
    "    \n",
    "    # Basic stats\n",
    "    print(f\"Duration: {len(audio)/sr:.2f}s\")\n",
    "    print(f\"Sample rate: {sr}Hz\")\n",
    "    \n",
    "    # Visualizations\n",
    "    fig, axes = plt.subplots(2, 2, figsize=(12, 8))\n",
    "    \n",
    "    # Waveform\n",
    "    librosa.display.waveshow(audio, sr=sr, ax=axes[0,0])\n",
    "    axes[0,0].set_title('Waveform')\n",
    "    \n",
    "    # Spectrogram\n",
    "    S = librosa.stft(audio)\n",
    "    librosa.display.specshow(librosa.amplitude_to_db(np.abs(S)), sr=sr, ax=axes[0,1])\n",
    "    axes[0,1].set_title('Spectrogram')\n",
    "    \n",
    "    # MFCC\n",
    "    mfccs = librosa.feature.mfcc(y=audio, sr=sr)\n",
    "    librosa.display.specshow(mfccs, sr=sr, ax=axes[1,0])\n",
    "    axes[1,0].set_title('MFCC')\n",
    "    \n",
    "    # Spectral centroid\n",
    "    cent = librosa.feature.spectral_centroid(y=audio, sr=sr)\n",
    "    axes[1,1].plot(cent[0])\n",
    "    axes[1,1].set_title('Spectral Centroid')\n",
    "    \n",
    "    plt.tight_layout()\n",
    "    return audio, sr"
   ]
  },
  {
   "cell_type": "code",
   "execution_count": null,
   "metadata": {},
   "outputs": [],
   "source": [
    "# Dataset overview\n",
    "data_path = Path('../data/raw')\n",
    "if data_path.exists():\n",
    "    for label_dir in data_path.iterdir():\n",
    "        if label_dir.is_dir():\n",
    "            count = len(list(label_dir.glob('*.npy')))\n",
    "            print(f\"{label_dir.name}: {count} samples\")\n",
    "else:\n",
    "    print(\"No data collected yet. Use AudioCollector to add samples.\")"
   ]
  }
 ],
 "metadata": {
  "kernelspec": {
   "display_name": ".venv",
   "language": "python",
   "name": "python3"
  },
  "language_info": {
   "name": "python",
   "version": "3.13.5"
  }
 },
 "nbformat": 4,
 "nbformat_minor": 4
}
